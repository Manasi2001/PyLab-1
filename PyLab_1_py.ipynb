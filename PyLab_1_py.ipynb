{
  "nbformat": 4,
  "nbformat_minor": 0,
  "metadata": {
    "colab": {
      "name": "PyLab-1.py",
      "provenance": [],
      "collapsed_sections": []
    },
    "kernelspec": {
      "name": "python3",
      "display_name": "Python 3"
    }
  },
  "cells": [
    {
      "cell_type": "markdown",
      "metadata": {
        "id": "9f5ZKqXtdkGU",
        "colab_type": "text"
      },
      "source": [
        "#                             Average of First n Numbers"
      ]
    },
    {
      "cell_type": "code",
      "metadata": {
        "id": "YrWtxyzJecgu",
        "colab_type": "code",
        "colab": {
          "base_uri": "https://localhost:8080/",
          "height": 51
        },
        "outputId": "23db6504-e3a7-4fd5-91ce-55c4e0e9689f"
      },
      "source": [
        "n=int(input())\n",
        "sum=0\n",
        "for i in range(1,n+1):\n",
        "    sum=sum+i\n",
        "avg=sum/n\n",
        "print(avg)"
      ],
      "execution_count": 2,
      "outputs": [
        {
          "output_type": "stream",
          "text": [
            "6\n",
            "3.5\n"
          ],
          "name": "stdout"
        }
      ]
    },
    {
      "cell_type": "markdown",
      "metadata": {
        "id": "mMw3331te6ux",
        "colab_type": "text"
      },
      "source": [
        "# Factorial of Entered Number\n",
        "\n",
        "\n",
        "\n"
      ]
    },
    {
      "cell_type": "code",
      "metadata": {
        "id": "ZYHQ6EfVek5K",
        "colab_type": "code",
        "colab": {
          "base_uri": "https://localhost:8080/",
          "height": 51
        },
        "outputId": "d81f0640-5a9e-4492-9a0c-9591d02b7d34"
      },
      "source": [
        "n=int(input())\n",
        "pro=1\n",
        "for i in range(1,n+1):\n",
        "    pro=pro*i\n",
        "print(int(pro)) "
      ],
      "execution_count": 3,
      "outputs": [
        {
          "output_type": "stream",
          "text": [
            "5\n",
            "120\n"
          ],
          "name": "stdout"
        }
      ]
    },
    {
      "cell_type": "markdown",
      "metadata": {
        "id": "ZL3ZvofvfU5G",
        "colab_type": "text"
      },
      "source": [
        "# Prime/Composite"
      ]
    },
    {
      "cell_type": "code",
      "metadata": {
        "id": "L21NB9LKfRFi",
        "colab_type": "code",
        "colab": {
          "base_uri": "https://localhost:8080/",
          "height": 51
        },
        "outputId": "21de55ad-e9d3-44a7-d4c7-2f4fc9ea9d41"
      },
      "source": [
        "n=int(input())\n",
        "temp=0\n",
        "for i in range(1,n+1):\n",
        "    if(n%i==0):\n",
        "        temp=temp+1\n",
        "if temp>2:\n",
        "    print(\"composite\")\n",
        "else:\n",
        "    print(\"prime\")"
      ],
      "execution_count": 4,
      "outputs": [
        {
          "output_type": "stream",
          "text": [
            "10\n",
            "composite\n"
          ],
          "name": "stdout"
        }
      ]
    },
    {
      "cell_type": "markdown",
      "metadata": {
        "id": "EgdKb2_ogAtv",
        "colab_type": "text"
      },
      "source": [
        "# Sum of series: 1+1/2+1/3+.......n"
      ]
    },
    {
      "cell_type": "code",
      "metadata": {
        "id": "MEJkMOM0f8bW",
        "colab_type": "code",
        "colab": {
          "base_uri": "https://localhost:8080/",
          "height": 51
        },
        "outputId": "ebc42c1e-ef9d-4c95-ecff-abf7beee2ac6"
      },
      "source": [
        "n=int(input())\n",
        "sum=0\n",
        "for i in range(1,n+1):\n",
        "    sum=sum+(1/i)\n",
        "print(sum)    "
      ],
      "execution_count": 5,
      "outputs": [
        {
          "output_type": "stream",
          "text": [
            "3\n",
            "1.8333333333333333\n"
          ],
          "name": "stdout"
        }
      ]
    },
    {
      "cell_type": "markdown",
      "metadata": {
        "id": "PKrlSNl6g2bF",
        "colab_type": "text"
      },
      "source": [
        "# Printing Pattern"
      ]
    },
    {
      "cell_type": "code",
      "metadata": {
        "id": "sxKOss9igsP7",
        "colab_type": "code",
        "colab": {
          "base_uri": "https://localhost:8080/",
          "height": 102
        },
        "outputId": "f896cd75-32e9-4159-b9b2-f609cda7b60b"
      },
      "source": [
        "l=[]\n",
        "for i in range(1,7):\n",
        "    i=str(i)\n",
        "    l.append(i)\n",
        "for j in range(0,len(l)-1):\n",
        "    l[j+1]=l[j]+l[j+1]\n",
        "    print(l[j])"
      ],
      "execution_count": 6,
      "outputs": [
        {
          "output_type": "stream",
          "text": [
            "1\n",
            "12\n",
            "123\n",
            "1234\n",
            "12345\n"
          ],
          "name": "stdout"
        }
      ]
    },
    {
      "cell_type": "markdown",
      "metadata": {
        "id": "OFpVfzx_hjIk",
        "colab_type": "text"
      },
      "source": [
        "## Tables: 1-10"
      ]
    },
    {
      "cell_type": "code",
      "metadata": {
        "id": "3zQYm729hprN",
        "colab_type": "code",
        "colab": {
          "base_uri": "https://localhost:8080/",
          "height": 1000
        },
        "outputId": "846c5d0a-bc9f-4dc3-90c5-feaef408385a"
      },
      "source": [
        "for i in range(1,11):\n",
        "    for j in range(1,11):\n",
        "        print(i,\" X \",j,\" = \",i*j)\n",
        "    print(\"\\n\")"
      ],
      "execution_count": 7,
      "outputs": [
        {
          "output_type": "stream",
          "text": [
            "1  X  1  =  1\n",
            "1  X  2  =  2\n",
            "1  X  3  =  3\n",
            "1  X  4  =  4\n",
            "1  X  5  =  5\n",
            "1  X  6  =  6\n",
            "1  X  7  =  7\n",
            "1  X  8  =  8\n",
            "1  X  9  =  9\n",
            "1  X  10  =  10\n",
            "\n",
            "\n",
            "2  X  1  =  2\n",
            "2  X  2  =  4\n",
            "2  X  3  =  6\n",
            "2  X  4  =  8\n",
            "2  X  5  =  10\n",
            "2  X  6  =  12\n",
            "2  X  7  =  14\n",
            "2  X  8  =  16\n",
            "2  X  9  =  18\n",
            "2  X  10  =  20\n",
            "\n",
            "\n",
            "3  X  1  =  3\n",
            "3  X  2  =  6\n",
            "3  X  3  =  9\n",
            "3  X  4  =  12\n",
            "3  X  5  =  15\n",
            "3  X  6  =  18\n",
            "3  X  7  =  21\n",
            "3  X  8  =  24\n",
            "3  X  9  =  27\n",
            "3  X  10  =  30\n",
            "\n",
            "\n",
            "4  X  1  =  4\n",
            "4  X  2  =  8\n",
            "4  X  3  =  12\n",
            "4  X  4  =  16\n",
            "4  X  5  =  20\n",
            "4  X  6  =  24\n",
            "4  X  7  =  28\n",
            "4  X  8  =  32\n",
            "4  X  9  =  36\n",
            "4  X  10  =  40\n",
            "\n",
            "\n",
            "5  X  1  =  5\n",
            "5  X  2  =  10\n",
            "5  X  3  =  15\n",
            "5  X  4  =  20\n",
            "5  X  5  =  25\n",
            "5  X  6  =  30\n",
            "5  X  7  =  35\n",
            "5  X  8  =  40\n",
            "5  X  9  =  45\n",
            "5  X  10  =  50\n",
            "\n",
            "\n",
            "6  X  1  =  6\n",
            "6  X  2  =  12\n",
            "6  X  3  =  18\n",
            "6  X  4  =  24\n",
            "6  X  5  =  30\n",
            "6  X  6  =  36\n",
            "6  X  7  =  42\n",
            "6  X  8  =  48\n",
            "6  X  9  =  54\n",
            "6  X  10  =  60\n",
            "\n",
            "\n",
            "7  X  1  =  7\n",
            "7  X  2  =  14\n",
            "7  X  3  =  21\n",
            "7  X  4  =  28\n",
            "7  X  5  =  35\n",
            "7  X  6  =  42\n",
            "7  X  7  =  49\n",
            "7  X  8  =  56\n",
            "7  X  9  =  63\n",
            "7  X  10  =  70\n",
            "\n",
            "\n",
            "8  X  1  =  8\n",
            "8  X  2  =  16\n",
            "8  X  3  =  24\n",
            "8  X  4  =  32\n",
            "8  X  5  =  40\n",
            "8  X  6  =  48\n",
            "8  X  7  =  56\n",
            "8  X  8  =  64\n",
            "8  X  9  =  72\n",
            "8  X  10  =  80\n",
            "\n",
            "\n",
            "9  X  1  =  9\n",
            "9  X  2  =  18\n",
            "9  X  3  =  27\n",
            "9  X  4  =  36\n",
            "9  X  5  =  45\n",
            "9  X  6  =  54\n",
            "9  X  7  =  63\n",
            "9  X  8  =  72\n",
            "9  X  9  =  81\n",
            "9  X  10  =  90\n",
            "\n",
            "\n",
            "10  X  1  =  10\n",
            "10  X  2  =  20\n",
            "10  X  3  =  30\n",
            "10  X  4  =  40\n",
            "10  X  5  =  50\n",
            "10  X  6  =  60\n",
            "10  X  7  =  70\n",
            "10  X  8  =  80\n",
            "10  X  9  =  90\n",
            "10  X  10  =  100\n",
            "\n",
            "\n"
          ],
          "name": "stdout"
        }
      ]
    },
    {
      "cell_type": "markdown",
      "metadata": {
        "id": "zcb_QL13iCBb",
        "colab_type": "text"
      },
      "source": [
        "# Creating a list and a tuple"
      ]
    },
    {
      "cell_type": "code",
      "metadata": {
        "id": "lAtExgjPiTN6",
        "colab_type": "code",
        "colab": {
          "base_uri": "https://localhost:8080/",
          "height": 51
        },
        "outputId": "14520305-acac-434e-a65d-6b7534e1807e"
      },
      "source": [
        "l={1,2,3,4,5}\n",
        "li=list(l)\n",
        "print(li)\n",
        "tu=tuple(l)\n",
        "print(tu)"
      ],
      "execution_count": 8,
      "outputs": [
        {
          "output_type": "stream",
          "text": [
            "[1, 2, 3, 4, 5]\n",
            "(1, 2, 3, 4, 5)\n"
          ],
          "name": "stdout"
        }
      ]
    },
    {
      "cell_type": "markdown",
      "metadata": {
        "id": "YuGUycjljJOQ",
        "colab_type": "text"
      },
      "source": [
        "# List to List Addition"
      ]
    },
    {
      "cell_type": "code",
      "metadata": {
        "id": "ZAuOjt7hin8m",
        "colab_type": "code",
        "colab": {
          "base_uri": "https://localhost:8080/",
          "height": 34
        },
        "outputId": "a984edf2-6474-4ab9-8791-bfec0f0102fc"
      },
      "source": [
        "l1=(1,2,3)\n",
        "l2=(1,2,3)\n",
        "lnew1=list(l1)\n",
        "lnew2=list(l2)\n",
        "print(lnew1+lnew2)"
      ],
      "execution_count": 9,
      "outputs": [
        {
          "output_type": "stream",
          "text": [
            "[1, 2, 3, 1, 2, 3]\n"
          ],
          "name": "stdout"
        }
      ]
    },
    {
      "cell_type": "markdown",
      "metadata": {
        "id": "FTkjFUuijZOZ",
        "colab_type": "text"
      },
      "source": [
        "# List to Tuple Addition"
      ]
    },
    {
      "cell_type": "code",
      "metadata": {
        "id": "yYDgerC9jU6r",
        "colab_type": "code",
        "colab": {
          "base_uri": "https://localhost:8080/",
          "height": 197
        },
        "outputId": "b54419ab-3094-4dbd-c99f-8b3cff7e006f"
      },
      "source": [
        "l1=(1,2,3)\n",
        "l2=(1,2,3)\n",
        "lnew1=list(l1)\n",
        "lnew2=tuple(l2)\n",
        "print(lnew1+lnew2)"
      ],
      "execution_count": 10,
      "outputs": [
        {
          "output_type": "error",
          "ename": "TypeError",
          "evalue": "ignored",
          "traceback": [
            "\u001b[0;31m---------------------------------------------------------------------------\u001b[0m",
            "\u001b[0;31mTypeError\u001b[0m                                 Traceback (most recent call last)",
            "\u001b[0;32m<ipython-input-10-a7c3d252ddaf>\u001b[0m in \u001b[0;36m<module>\u001b[0;34m()\u001b[0m\n\u001b[1;32m      3\u001b[0m \u001b[0mlnew1\u001b[0m\u001b[0;34m=\u001b[0m\u001b[0mlist\u001b[0m\u001b[0;34m(\u001b[0m\u001b[0ml1\u001b[0m\u001b[0;34m)\u001b[0m\u001b[0;34m\u001b[0m\u001b[0;34m\u001b[0m\u001b[0m\n\u001b[1;32m      4\u001b[0m \u001b[0mlnew2\u001b[0m\u001b[0;34m=\u001b[0m\u001b[0mtuple\u001b[0m\u001b[0;34m(\u001b[0m\u001b[0ml2\u001b[0m\u001b[0;34m)\u001b[0m\u001b[0;34m\u001b[0m\u001b[0;34m\u001b[0m\u001b[0m\n\u001b[0;32m----> 5\u001b[0;31m \u001b[0mprint\u001b[0m\u001b[0;34m(\u001b[0m\u001b[0mlnew1\u001b[0m\u001b[0;34m+\u001b[0m\u001b[0mlnew2\u001b[0m\u001b[0;34m)\u001b[0m\u001b[0;34m\u001b[0m\u001b[0;34m\u001b[0m\u001b[0m\n\u001b[0m",
            "\u001b[0;31mTypeError\u001b[0m: can only concatenate list (not \"tuple\") to list"
          ]
        }
      ]
    },
    {
      "cell_type": "markdown",
      "metadata": {
        "id": "ptQDIzLKjofR",
        "colab_type": "text"
      },
      "source": [
        "# Tuple to Tuple Addition"
      ]
    },
    {
      "cell_type": "code",
      "metadata": {
        "id": "wGzCEX_HjmIY",
        "colab_type": "code",
        "colab": {
          "base_uri": "https://localhost:8080/",
          "height": 34
        },
        "outputId": "fd955e40-9e56-4431-b2c4-ea5dc62b95c0"
      },
      "source": [
        "l1=(1,2,3)\n",
        "l2=(1,2,3)\n",
        "lnew1=tuple(l1)\n",
        "lnew2=tuple(l2)\n",
        "print(lnew1+lnew2)"
      ],
      "execution_count": 11,
      "outputs": [
        {
          "output_type": "stream",
          "text": [
            "(1, 2, 3, 1, 2, 3)\n"
          ],
          "name": "stdout"
        }
      ]
    },
    {
      "cell_type": "markdown",
      "metadata": {
        "id": "vyDS5Hqxj3ew",
        "colab_type": "text"
      },
      "source": [
        "# List to List Multiplication"
      ]
    },
    {
      "cell_type": "code",
      "metadata": {
        "id": "ZzDIs7F_j0sb",
        "colab_type": "code",
        "colab": {
          "base_uri": "https://localhost:8080/",
          "height": 197
        },
        "outputId": "a16297fd-979b-4ff6-c2e8-299214fab3ee"
      },
      "source": [
        "l1=(1,2,3)\n",
        "l2=(1,2,3)\n",
        "lnew1=list(l1)\n",
        "lnew2=list(l2)\n",
        "print(lnew1*lnew2)"
      ],
      "execution_count": 12,
      "outputs": [
        {
          "output_type": "error",
          "ename": "TypeError",
          "evalue": "ignored",
          "traceback": [
            "\u001b[0;31m---------------------------------------------------------------------------\u001b[0m",
            "\u001b[0;31mTypeError\u001b[0m                                 Traceback (most recent call last)",
            "\u001b[0;32m<ipython-input-12-fe780d848fa7>\u001b[0m in \u001b[0;36m<module>\u001b[0;34m()\u001b[0m\n\u001b[1;32m      3\u001b[0m \u001b[0mlnew1\u001b[0m\u001b[0;34m=\u001b[0m\u001b[0mlist\u001b[0m\u001b[0;34m(\u001b[0m\u001b[0ml1\u001b[0m\u001b[0;34m)\u001b[0m\u001b[0;34m\u001b[0m\u001b[0;34m\u001b[0m\u001b[0m\n\u001b[1;32m      4\u001b[0m \u001b[0mlnew2\u001b[0m\u001b[0;34m=\u001b[0m\u001b[0mlist\u001b[0m\u001b[0;34m(\u001b[0m\u001b[0ml2\u001b[0m\u001b[0;34m)\u001b[0m\u001b[0;34m\u001b[0m\u001b[0;34m\u001b[0m\u001b[0m\n\u001b[0;32m----> 5\u001b[0;31m \u001b[0mprint\u001b[0m\u001b[0;34m(\u001b[0m\u001b[0mlnew1\u001b[0m\u001b[0;34m*\u001b[0m\u001b[0mlnew2\u001b[0m\u001b[0;34m)\u001b[0m\u001b[0;34m\u001b[0m\u001b[0;34m\u001b[0m\u001b[0m\n\u001b[0m",
            "\u001b[0;31mTypeError\u001b[0m: can't multiply sequence by non-int of type 'list'"
          ]
        }
      ]
    },
    {
      "cell_type": "markdown",
      "metadata": {
        "id": "E_1sTOWTkIDF",
        "colab_type": "text"
      },
      "source": [
        "# List to Tuple Multiplication"
      ]
    },
    {
      "cell_type": "code",
      "metadata": {
        "id": "AM2F0ZQDkGNb",
        "colab_type": "code",
        "colab": {
          "base_uri": "https://localhost:8080/",
          "height": 197
        },
        "outputId": "d074c0b6-461f-4479-d42e-4516e67e0b84"
      },
      "source": [
        "l1=(1,2,3)\n",
        "l2=(1,2,3)\n",
        "lnew1=list(l1)\n",
        "lnew2=tuple(l2)\n",
        "print(lnew1*lnew2)"
      ],
      "execution_count": 13,
      "outputs": [
        {
          "output_type": "error",
          "ename": "TypeError",
          "evalue": "ignored",
          "traceback": [
            "\u001b[0;31m---------------------------------------------------------------------------\u001b[0m",
            "\u001b[0;31mTypeError\u001b[0m                                 Traceback (most recent call last)",
            "\u001b[0;32m<ipython-input-13-3e1a3a12b3fd>\u001b[0m in \u001b[0;36m<module>\u001b[0;34m()\u001b[0m\n\u001b[1;32m      3\u001b[0m \u001b[0mlnew1\u001b[0m\u001b[0;34m=\u001b[0m\u001b[0mlist\u001b[0m\u001b[0;34m(\u001b[0m\u001b[0ml1\u001b[0m\u001b[0;34m)\u001b[0m\u001b[0;34m\u001b[0m\u001b[0;34m\u001b[0m\u001b[0m\n\u001b[1;32m      4\u001b[0m \u001b[0mlnew2\u001b[0m\u001b[0;34m=\u001b[0m\u001b[0mtuple\u001b[0m\u001b[0;34m(\u001b[0m\u001b[0ml2\u001b[0m\u001b[0;34m)\u001b[0m\u001b[0;34m\u001b[0m\u001b[0;34m\u001b[0m\u001b[0m\n\u001b[0;32m----> 5\u001b[0;31m \u001b[0mprint\u001b[0m\u001b[0;34m(\u001b[0m\u001b[0mlnew1\u001b[0m\u001b[0;34m*\u001b[0m\u001b[0mlnew2\u001b[0m\u001b[0;34m)\u001b[0m\u001b[0;34m\u001b[0m\u001b[0;34m\u001b[0m\u001b[0m\n\u001b[0m",
            "\u001b[0;31mTypeError\u001b[0m: can't multiply sequence by non-int of type 'tuple'"
          ]
        }
      ]
    },
    {
      "cell_type": "markdown",
      "metadata": {
        "id": "D6-qLMOkkeiw",
        "colab_type": "text"
      },
      "source": [
        "# Tuple to Tuple Multiplication"
      ]
    },
    {
      "cell_type": "code",
      "metadata": {
        "id": "Lzn4wFmkkjJs",
        "colab_type": "code",
        "colab": {
          "base_uri": "https://localhost:8080/",
          "height": 197
        },
        "outputId": "9b73aebb-c914-416f-8b03-08d0489a0fc4"
      },
      "source": [
        "l1=(1,2,3)\n",
        "l2=(1,2,3)\n",
        "lnew1=tuple(l1)\n",
        "lnew2=tuple(l2)\n",
        "print(lnew1*lnew2)"
      ],
      "execution_count": 14,
      "outputs": [
        {
          "output_type": "error",
          "ename": "TypeError",
          "evalue": "ignored",
          "traceback": [
            "\u001b[0;31m---------------------------------------------------------------------------\u001b[0m",
            "\u001b[0;31mTypeError\u001b[0m                                 Traceback (most recent call last)",
            "\u001b[0;32m<ipython-input-14-2cf7ccc6a6fb>\u001b[0m in \u001b[0;36m<module>\u001b[0;34m()\u001b[0m\n\u001b[1;32m      3\u001b[0m \u001b[0mlnew1\u001b[0m\u001b[0;34m=\u001b[0m\u001b[0mtuple\u001b[0m\u001b[0;34m(\u001b[0m\u001b[0ml1\u001b[0m\u001b[0;34m)\u001b[0m\u001b[0;34m\u001b[0m\u001b[0;34m\u001b[0m\u001b[0m\n\u001b[1;32m      4\u001b[0m \u001b[0mlnew2\u001b[0m\u001b[0;34m=\u001b[0m\u001b[0mtuple\u001b[0m\u001b[0;34m(\u001b[0m\u001b[0ml2\u001b[0m\u001b[0;34m)\u001b[0m\u001b[0;34m\u001b[0m\u001b[0;34m\u001b[0m\u001b[0m\n\u001b[0;32m----> 5\u001b[0;31m \u001b[0mprint\u001b[0m\u001b[0;34m(\u001b[0m\u001b[0mlnew1\u001b[0m\u001b[0;34m*\u001b[0m\u001b[0mlnew2\u001b[0m\u001b[0;34m)\u001b[0m\u001b[0;34m\u001b[0m\u001b[0;34m\u001b[0m\u001b[0m\n\u001b[0m",
            "\u001b[0;31mTypeError\u001b[0m: can't multiply sequence by non-int of type 'tuple'"
          ]
        }
      ]
    },
    {
      "cell_type": "markdown",
      "metadata": {
        "id": "ZF_yErL_kwVR",
        "colab_type": "text"
      },
      "source": [
        "# Creating a Dictionary"
      ]
    },
    {
      "cell_type": "code",
      "metadata": {
        "id": "aNUlisUOknd_",
        "colab_type": "code",
        "colab": {
          "base_uri": "https://localhost:8080/",
          "height": 34
        },
        "outputId": "73faea17-d72d-4aa1-8c65-0c0c9a467f5b"
      },
      "source": [
        "a={'Class':10,'Section':'C'}\n",
        "print(a)"
      ],
      "execution_count": 15,
      "outputs": [
        {
          "output_type": "stream",
          "text": [
            "{'Class': 10, 'Section': 'C'}\n"
          ],
          "name": "stdout"
        }
      ]
    },
    {
      "cell_type": "markdown",
      "metadata": {
        "id": "1LMJYd9fmJEL",
        "colab_type": "text"
      },
      "source": [
        "# Slicing"
      ]
    },
    {
      "cell_type": "code",
      "metadata": {
        "id": "q4pupRoilweK",
        "colab_type": "code",
        "colab": {
          "base_uri": "https://localhost:8080/",
          "height": 34
        },
        "outputId": "f3b2f1ac-7e5d-4b1a-d15b-c28d77095525"
      },
      "source": [
        "l=[1,2,3,4,5]\n",
        "print(l[1:3])"
      ],
      "execution_count": 16,
      "outputs": [
        {
          "output_type": "stream",
          "text": [
            "[2, 3]\n"
          ],
          "name": "stdout"
        }
      ]
    }
  ]
}